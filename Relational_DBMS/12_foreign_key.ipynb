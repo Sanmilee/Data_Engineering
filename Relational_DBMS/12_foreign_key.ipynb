{
 "cells": [
  {
   "cell_type": "markdown",
   "metadata": {},
   "source": [
    "# Foreign Key - RDBMS - Postgre"
   ]
  },
  {
   "cell_type": "code",
   "execution_count": 1,
   "metadata": {},
   "outputs": [],
   "source": [
    "import psycopg2\n",
    "\n",
    "conn = psycopg2.connect(\"host=127.0.0.1 dbname=postgres user=yours password=yours\")\n",
    "cur = conn.cursor()"
   ]
  },
  {
   "cell_type": "code",
   "execution_count": 2,
   "metadata": {},
   "outputs": [],
   "source": [
    "conn.set_session(autocommit=True)"
   ]
  },
  {
   "cell_type": "markdown",
   "metadata": {},
   "source": [
    "### table 1\n",
    "\n",
    "![alt text](f1.png \"Image 1 Display\")\n"
   ]
  },
  {
   "cell_type": "code",
   "execution_count": 3,
   "metadata": {},
   "outputs": [],
   "source": [
    "cur.execute(\"CREATE TABLE IF NOT EXISTS users (id int, name varchar, address varchar, salutation varchar, PRIMARY KEY (id))\")\n"
   ]
  },
  {
   "cell_type": "code",
   "execution_count": 4,
   "metadata": {},
   "outputs": [],
   "source": [
    "cur.execute(\"INSERT INTO users VALUES(1,'Janet Jones', 'No 4 First Street Plot', 'Ms')\")\n",
    "            \n",
    "cur.execute(\"INSERT INTO users VALUES(2,'Robert Phil', '3rd Street 34', 'Mr')\")\n",
    "\n",
    "cur.execute(\"INSERT INTO users VALUES(3,'Robert Phil', '5th Avenue', 'Mr')\")"
   ]
  },
  {
   "cell_type": "code",
   "execution_count": 5,
   "metadata": {},
   "outputs": [
    {
     "name": "stdout",
     "output_type": "stream",
     "text": [
      "(1, 'Janet Jones', 'No 4 First Street Plot', 'Ms')\n",
      "(2, 'Robert Phil', '3rd Street 34', 'Mr')\n",
      "(3, 'Robert Phil', '5th Avenue', 'Mr')\n"
     ]
    }
   ],
   "source": [
    "cur.execute(\"SELECT * FROM users\")\n",
    "row = cur.fetchone()\n",
    "\n",
    "while row:\n",
    "    print(row)\n",
    "    row = cur.fetchone()"
   ]
  },
  {
   "cell_type": "markdown",
   "metadata": {},
   "source": [
    "### table 2\n",
    "\n",
    "![alt text](f2.png \"Image 1 Display\")\n"
   ]
  },
  {
   "cell_type": "code",
   "execution_count": 6,
   "metadata": {},
   "outputs": [],
   "source": [
    "cur.execute(\"CREATE TABLE IF NOT EXISTS movie (movie_id int, movie_name varchar,  PRIMARY KEY (movie_id))\")\n"
   ]
  },
  {
   "cell_type": "code",
   "execution_count": 7,
   "metadata": {},
   "outputs": [],
   "source": [
    "cur.execute(\"INSERT INTO movie VALUES(1,'Pirates of the Carribean')\")\n",
    "            \n",
    "cur.execute(\"INSERT INTO movie VALUES(2,'Clash of the Titans')\")\n",
    "\n",
    "cur.execute(\"INSERT INTO movie VALUES(3,'Forgetting Sarah Marshal')\")\n",
    "\n",
    "cur.execute(\"INSERT INTO movie VALUES(4,'Daddy Little Girls')\")"
   ]
  },
  {
   "cell_type": "code",
   "execution_count": 8,
   "metadata": {},
   "outputs": [
    {
     "name": "stdout",
     "output_type": "stream",
     "text": [
      "(1, 'Pirates of the Carribean')\n",
      "(2, 'Clash of the Titans')\n",
      "(3, 'Forgetting Sarah Marshal')\n",
      "(4, 'Daddy Little Girls')\n"
     ]
    }
   ],
   "source": [
    "cur.execute(\"SELECT * FROM movie\")\n",
    "row = cur.fetchone()\n",
    "\n",
    "while row:\n",
    "    print(row)\n",
    "    row = cur.fetchone()"
   ]
  },
  {
   "cell_type": "markdown",
   "metadata": {},
   "source": [
    "## Now add a 3rd table having foreign from both users and movie tables"
   ]
  },
  {
   "cell_type": "code",
   "execution_count": 9,
   "metadata": {},
   "outputs": [],
   "source": [
    "cur.execute(\"CREATE TABLE IF NOT EXISTS movie_user (person_id int, name varchar, movie_name varchar, \\\n",
    "user_id int REFERENCES users(id), movie_nos int REFERENCES movie(movie_id), \\\n",
    "shoot_location varchar, PRIMARY KEY (person_id))\")\n"
   ]
  },
  {
   "cell_type": "markdown",
   "metadata": {},
   "source": [
    "### Another way to define a foreign key constraint is to use the table constraint as follows:"
   ]
  },
  {
   "cell_type": "code",
   "execution_count": 10,
   "metadata": {},
   "outputs": [],
   "source": [
    "cur.execute(\"CREATE TABLE IF NOT EXISTS movie_user (person_id int, name varchar, movie_name varchar, \\\n",
    "user_id int, movie_nos int, shoot_location varchar, PRIMARY KEY (person_id), \\\n",
    "FOREIGN KEY (user_id) REFERENCES users (id), FOREIGN KEY (movie_nos) REFERENCES movie (movie_id))\")\n"
   ]
  },
  {
   "cell_type": "code",
   "execution_count": null,
   "metadata": {},
   "outputs": [],
   "source": []
  },
  {
   "cell_type": "code",
   "execution_count": null,
   "metadata": {},
   "outputs": [],
   "source": []
  },
  {
   "cell_type": "code",
   "execution_count": 11,
   "metadata": {},
   "outputs": [],
   "source": [
    "cur.execute(\"INSERT INTO movie_user VALUES(1, 'Janet Jones', 'Pirates of the Carribean', 1, 1, 'USA')\")\n",
    "            \n",
    "cur.execute(\"INSERT INTO movie_user VALUES(2, 'Robert Phil', 'Clash of the Titans', 2, 2, 'Spain')\")\n",
    "\n",
    "cur.execute(\"INSERT INTO movie_user VALUES(3, 'Robert Phil', 'Forgetting Sarah Marshal', 3, 3, 'UK')\")\n",
    "\n",
    "cur.execute(\"INSERT INTO movie_user VALUES(4, 'Robert Phil', 'Daddy Little Girls', 2, 4, 'Brazil')\")\n",
    "\n",
    "cur.execute(\"INSERT INTO movie_user VALUES(5, 'Janet Jones', 'Pirates of the Carribean', 1, 1, 'USA')\")\n",
    "\n",
    "cur.execute(\"INSERT INTO movie_user VALUES(6, 'Robert Phil', 'Clash of the Titans', 3, 2, 'Spain')\")\n",
    "\n",
    "cur.execute(\"INSERT INTO movie_user VALUES(7, 'Robert Phil', 'Forgetting Sarah Marshal', 3, 3, 'UK')\")\n",
    "\n",
    "cur.execute(\"INSERT INTO movie_user VALUES(8, 'Janet Jones', 'Daddy Little Girls', 1, 4, 'Brazil')\")\n",
    "\n",
    "cur.execute(\"INSERT INTO movie_user VALUES(9, 'Robert Phil', 'Pirates of the Carribean', 2, 1, 'USA')\")"
   ]
  },
  {
   "cell_type": "code",
   "execution_count": 12,
   "metadata": {},
   "outputs": [
    {
     "name": "stdout",
     "output_type": "stream",
     "text": [
      "(1, 'Janet Jones', 'Pirates of the Carribean', 1, 1, 'USA')\n",
      "(2, 'Robert Phil', 'Clash of the Titans', 2, 2, 'Spain')\n",
      "(3, 'Robert Phil', 'Forgetting Sarah Marshal', 3, 3, 'UK')\n",
      "(4, 'Robert Phil', 'Daddy Little Girls', 2, 4, 'Brazil')\n",
      "(5, 'Janet Jones', 'Pirates of the Carribean', 1, 1, 'USA')\n",
      "(6, 'Robert Phil', 'Clash of the Titans', 3, 2, 'Spain')\n",
      "(7, 'Robert Phil', 'Forgetting Sarah Marshal', 3, 3, 'UK')\n",
      "(8, 'Janet Jones', 'Daddy Little Girls', 1, 4, 'Brazil')\n",
      "(9, 'Robert Phil', 'Pirates of the Carribean', 2, 1, 'USA')\n"
     ]
    }
   ],
   "source": [
    "cur.execute(\"SELECT * FROM movie_user\")\n",
    "row = cur.fetchone()\n",
    "\n",
    "while row:\n",
    "    print(row)\n",
    "    row = cur.fetchone()"
   ]
  },
  {
   "cell_type": "markdown",
   "metadata": {},
   "source": [
    "## insert new row into movie_user not inserted in table users before\n",
    "\n",
    "error"
   ]
  },
  {
   "cell_type": "code",
   "execution_count": 13,
   "metadata": {},
   "outputs": [
    {
     "ename": "ForeignKeyViolation",
     "evalue": "insert or update on table \"movie_user\" violates foreign key constraint \"movie_user_user_id_fkey\"\nDETAIL:  Key (user_id)=(4) is not present in table \"users\".\n",
     "output_type": "error",
     "traceback": [
      "\u001b[1;31m---------------------------------------------------------------------------\u001b[0m",
      "\u001b[1;31mForeignKeyViolation\u001b[0m                       Traceback (most recent call last)",
      "\u001b[1;32m<ipython-input-13-f85c7a46803d>\u001b[0m in \u001b[0;36m<module>\u001b[1;34m\u001b[0m\n\u001b[1;32m----> 1\u001b[1;33m \u001b[0mcur\u001b[0m\u001b[1;33m.\u001b[0m\u001b[0mexecute\u001b[0m\u001b[1;33m(\u001b[0m\u001b[1;34m\"INSERT INTO movie_user VALUES(10, 'Robert Phil', 'Pirates of the Carribean', 4, 1, 'USA')\"\u001b[0m\u001b[1;33m)\u001b[0m\u001b[1;33m\u001b[0m\u001b[1;33m\u001b[0m\u001b[0m\n\u001b[0m",
      "\u001b[1;31mForeignKeyViolation\u001b[0m: insert or update on table \"movie_user\" violates foreign key constraint \"movie_user_user_id_fkey\"\nDETAIL:  Key (user_id)=(4) is not present in table \"users\".\n"
     ]
    }
   ],
   "source": [
    "cur.execute(\"INSERT INTO movie_user VALUES(10, 'Robert Phil', 'Pirates of the Carribean', 4, 1, 'USA')\")"
   ]
  },
  {
   "cell_type": "markdown",
   "metadata": {},
   "source": [
    "## insert new row into movie_user not inserted in table movie before\n",
    "\n",
    "error"
   ]
  },
  {
   "cell_type": "code",
   "execution_count": 14,
   "metadata": {},
   "outputs": [
    {
     "ename": "ForeignKeyViolation",
     "evalue": "insert or update on table \"movie_user\" violates foreign key constraint \"movie_user_movie_nos_fkey\"\nDETAIL:  Key (movie_nos)=(5) is not present in table \"movie\".\n",
     "output_type": "error",
     "traceback": [
      "\u001b[1;31m---------------------------------------------------------------------------\u001b[0m",
      "\u001b[1;31mForeignKeyViolation\u001b[0m                       Traceback (most recent call last)",
      "\u001b[1;32m<ipython-input-14-bd97ea9e66d4>\u001b[0m in \u001b[0;36m<module>\u001b[1;34m\u001b[0m\n\u001b[1;32m----> 1\u001b[1;33m \u001b[0mcur\u001b[0m\u001b[1;33m.\u001b[0m\u001b[0mexecute\u001b[0m\u001b[1;33m(\u001b[0m\u001b[1;34m\"INSERT INTO movie_user VALUES(11, 'Robert Phil', 'Pirates of the Carribean', 2, 5, 'USA')\"\u001b[0m\u001b[1;33m)\u001b[0m\u001b[1;33m\u001b[0m\u001b[1;33m\u001b[0m\u001b[0m\n\u001b[0m",
      "\u001b[1;31mForeignKeyViolation\u001b[0m: insert or update on table \"movie_user\" violates foreign key constraint \"movie_user_movie_nos_fkey\"\nDETAIL:  Key (movie_nos)=(5) is not present in table \"movie\".\n"
     ]
    }
   ],
   "source": [
    "cur.execute(\"INSERT INTO movie_user VALUES(11, 'Robert Phil', 'Pirates of the Carribean', 2, 5, 'USA')\")"
   ]
  },
  {
   "cell_type": "markdown",
   "metadata": {},
   "source": [
    "## Try to delete tables"
   ]
  },
  {
   "cell_type": "code",
   "execution_count": 15,
   "metadata": {},
   "outputs": [
    {
     "ename": "DependentObjectsStillExist",
     "evalue": "cannot drop table users because other objects depend on it\nDETAIL:  constraint movie_user_user_id_fkey on table movie_user depends on table users\nHINT:  Use DROP ... CASCADE to drop the dependent objects too.\n",
     "output_type": "error",
     "traceback": [
      "\u001b[1;31m---------------------------------------------------------------------------\u001b[0m",
      "\u001b[1;31mDependentObjectsStillExist\u001b[0m                Traceback (most recent call last)",
      "\u001b[1;32m<ipython-input-15-2986b160eb77>\u001b[0m in \u001b[0;36m<module>\u001b[1;34m\u001b[0m\n\u001b[1;32m----> 1\u001b[1;33m \u001b[0mcur\u001b[0m\u001b[1;33m.\u001b[0m\u001b[0mexecute\u001b[0m\u001b[1;33m(\u001b[0m\u001b[1;34m\"DROP TABLE users\"\u001b[0m\u001b[1;33m)\u001b[0m\u001b[1;33m\u001b[0m\u001b[1;33m\u001b[0m\u001b[0m\n\u001b[0m\u001b[0;32m      2\u001b[0m \u001b[0mcur\u001b[0m\u001b[1;33m.\u001b[0m\u001b[0mexecute\u001b[0m\u001b[1;33m(\u001b[0m\u001b[1;34m\"DROP TABLE movie\"\u001b[0m\u001b[1;33m)\u001b[0m\u001b[1;33m\u001b[0m\u001b[1;33m\u001b[0m\u001b[0m\n\u001b[0;32m      3\u001b[0m \u001b[0mcur\u001b[0m\u001b[1;33m.\u001b[0m\u001b[0mexecute\u001b[0m\u001b[1;33m(\u001b[0m\u001b[1;34m\"DROP TABLE movie_user\"\u001b[0m\u001b[1;33m)\u001b[0m\u001b[1;33m\u001b[0m\u001b[1;33m\u001b[0m\u001b[0m\n",
      "\u001b[1;31mDependentObjectsStillExist\u001b[0m: cannot drop table users because other objects depend on it\nDETAIL:  constraint movie_user_user_id_fkey on table movie_user depends on table users\nHINT:  Use DROP ... CASCADE to drop the dependent objects too.\n"
     ]
    }
   ],
   "source": [
    "cur.execute(\"DROP TABLE users\")\n",
    "cur.execute(\"DROP TABLE movie\")\n",
    "cur.execute(\"DROP TABLE movie_user\")"
   ]
  },
  {
   "cell_type": "markdown",
   "metadata": {},
   "source": [
    "## Use DROP ... CASCADE to drop the dependent objects too.\n",
    "\n",
    "CASCADE will remove a dependent view entirely, but in the foreign-key case it will only remove the foreign-key constraint, not the other table entirely."
   ]
  },
  {
   "cell_type": "code",
   "execution_count": 16,
   "metadata": {},
   "outputs": [],
   "source": [
    "cur.execute(\"DROP TABLE users CASCADE\")\n",
    "cur.execute(\"DROP TABLE movie CASCADE\")\n",
    "cur.execute(\"DROP TABLE movie_user CASCADE\")\n"
   ]
  },
  {
   "cell_type": "code",
   "execution_count": null,
   "metadata": {},
   "outputs": [],
   "source": []
  },
  {
   "cell_type": "code",
   "execution_count": null,
   "metadata": {},
   "outputs": [],
   "source": []
  }
 ],
 "metadata": {
  "kernelspec": {
   "display_name": "Python 3",
   "language": "python",
   "name": "python3"
  },
  "language_info": {
   "codemirror_mode": {
    "name": "ipython",
    "version": 3
   },
   "file_extension": ".py",
   "mimetype": "text/x-python",
   "name": "python",
   "nbconvert_exporter": "python",
   "pygments_lexer": "ipython3",
   "version": "3.6.7"
  }
 },
 "nbformat": 4,
 "nbformat_minor": 2
}

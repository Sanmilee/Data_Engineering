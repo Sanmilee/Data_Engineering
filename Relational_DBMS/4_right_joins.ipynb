{
 "cells": [
  {
   "cell_type": "markdown",
   "metadata": {},
   "source": [
    "# Right Joins - relational DB postges"
   ]
  },
  {
   "cell_type": "markdown",
   "metadata": {},
   "source": [
    "### right Joins\n",
    "\n",
    "![alt text](a5.png \"Image 1 Display\")\n"
   ]
  },
  {
   "cell_type": "code",
   "execution_count": 2,
   "metadata": {},
   "outputs": [],
   "source": [
    "import psycopg2\n",
    "\n",
    "\n",
    "conn = psycopg2.connect(\"host = 127.0.0.1 dbname = postgres user = postgres password =pswd\")\n",
    "\n",
    "cur = conn.cursor()"
   ]
  },
  {
   "cell_type": "code",
   "execution_count": 3,
   "metadata": {},
   "outputs": [],
   "source": [
    "conn.set_session(autocommit=True)"
   ]
  },
  {
   "cell_type": "markdown",
   "metadata": {},
   "source": [
    "### Inner Joins\n",
    "\n",
    "![alt text](a6.png \"Image 1 Display\")\n"
   ]
  },
  {
   "cell_type": "markdown",
   "metadata": {},
   "source": [
    "## CREATE TABLE Customez"
   ]
  },
  {
   "cell_type": "code",
   "execution_count": 4,
   "metadata": {},
   "outputs": [],
   "source": [
    "cur.execute(\"CREATE TABLE Customez (ID int, Name varchar)\")"
   ]
  },
  {
   "cell_type": "code",
   "execution_count": 5,
   "metadata": {},
   "outputs": [],
   "source": [
    "cur.execute('INSERT INTO Customez(ID, Name) values (%s, %s)',\n",
    "           (1, \"Jose\"))\n",
    "\n",
    "cur.execute('INSERT INTO Customez (ID, Name) values (%s, %s)',\n",
    "           (2, \"Rolf\"))\n",
    "\n",
    "cur.execute('INSERT INTO Customez (ID, Name) values(%s, %s)',\n",
    "           (3, \"Anna\"))\n",
    "\n",
    "cur.execute('INSERT INTO Customez (ID, Name) values(%s, %s)',\n",
    "           (4, \"Robert\"))"
   ]
  },
  {
   "cell_type": "code",
   "execution_count": 6,
   "metadata": {},
   "outputs": [
    {
     "name": "stdout",
     "output_type": "stream",
     "text": [
      "(1, 'Jose')\n",
      "(2, 'Rolf')\n",
      "(3, 'Anna')\n",
      "(4, 'Robert')\n"
     ]
    }
   ],
   "source": [
    "cur.execute(\"SELECT * FROM Customez\")\n",
    "\n",
    "row = cur.fetchone()\n",
    "\n",
    "\n",
    "while row:\n",
    "    print(row)\n",
    "    row = cur.fetchone()"
   ]
  },
  {
   "cell_type": "markdown",
   "metadata": {},
   "source": [
    "## CREATE TABLE Orderz"
   ]
  },
  {
   "cell_type": "code",
   "execution_count": 13,
   "metadata": {},
   "outputs": [],
   "source": [
    "cur.execute('CREATE TABLE Orderz (ID int, customer_ID int, products varchar)')"
   ]
  },
  {
   "cell_type": "code",
   "execution_count": 14,
   "metadata": {},
   "outputs": [],
   "source": [
    "cur.execute('INSERT INTO Orderz (ID, customer_ID, products) values (%s, %s, %s)',\n",
    "           (1, 1, \"Chair\"))\n",
    "\n",
    "cur.execute('INSERT INTO Orderz (ID, customer_ID, products) values (%s, %s, %s)',\n",
    "           (2, 1, \"Pen\"))\n",
    "\n",
    "cur.execute('INSERT INTO Orderz (ID, customer_ID, products) values (%s, %s, %s)',\n",
    "           (3, 1, \"Monitor\"))\n",
    "\n",
    "cur.execute('INSERT INTO Orderz (ID, customer_ID, products) values (%s, %s, %s)',\n",
    "           (4, 3, \"Headphones\"))"
   ]
  },
  {
   "cell_type": "code",
   "execution_count": 15,
   "metadata": {},
   "outputs": [
    {
     "name": "stdout",
     "output_type": "stream",
     "text": [
      "(1, 1, 'Chair')\n",
      "(2, 1, 'Pen')\n",
      "(3, 1, 'Monitor')\n",
      "(4, 3, 'Headphones')\n"
     ]
    }
   ],
   "source": [
    "cur.execute(\"SELECT * FROM Orderz\")\n",
    "\n",
    "row = cur.fetchone()\n",
    "\n",
    "\n",
    "while row:\n",
    "    print(row)\n",
    "    row = cur.fetchone()"
   ]
  },
  {
   "cell_type": "markdown",
   "metadata": {},
   "source": [
    "## Implement Joins"
   ]
  },
  {
   "cell_type": "code",
   "execution_count": 18,
   "metadata": {},
   "outputs": [
    {
     "name": "stdout",
     "output_type": "stream",
     "text": [
      "(1, 'Jose', 1, 1, 'Chair')\n",
      "(1, 'Jose', 2, 1, 'Pen')\n",
      "(1, 'Jose', 3, 1, 'Monitor')\n",
      "(3, 'Anna', 4, 3, 'Headphones')\n"
     ]
    }
   ],
   "source": [
    "cur.execute(\"SELECT * FROM Customez RIGHT JOIN Orderz ON Customez.ID = Orderz.customer_ID\")\n",
    "\n",
    "row = cur.fetchone()\n",
    "\n",
    "while row:\n",
    "    print(row)\n",
    "    row = cur.fetchone()"
   ]
  },
  {
   "cell_type": "code",
   "execution_count": null,
   "metadata": {},
   "outputs": [],
   "source": []
  },
  {
   "cell_type": "code",
   "execution_count": null,
   "metadata": {},
   "outputs": [],
   "source": []
  },
  {
   "cell_type": "code",
   "execution_count": null,
   "metadata": {},
   "outputs": [],
   "source": []
  },
  {
   "cell_type": "code",
   "execution_count": 12,
   "metadata": {},
   "outputs": [],
   "source": [
    "#cur.execute('drop table Orderz')"
   ]
  }
 ],
 "metadata": {
  "kernelspec": {
   "display_name": "Python 3",
   "language": "python",
   "name": "python3"
  },
  "language_info": {
   "codemirror_mode": {
    "name": "ipython",
    "version": 3
   },
   "file_extension": ".py",
   "mimetype": "text/x-python",
   "name": "python",
   "nbconvert_exporter": "python",
   "pygments_lexer": "ipython3",
   "version": "3.6.5"
  }
 },
 "nbformat": 4,
 "nbformat_minor": 2
}

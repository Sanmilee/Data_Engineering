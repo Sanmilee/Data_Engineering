{
 "cells": [
  {
   "cell_type": "markdown",
   "metadata": {},
   "source": [
    "# 3 Tables Joins  - relational DB postges"
   ]
  },
  {
   "cell_type": "code",
   "execution_count": 1,
   "metadata": {},
   "outputs": [],
   "source": [
    "import psycopg2\n",
    "\n",
    "\n",
    "conn = psycopg2.connect(\"host = 127.0.0.1 dbname=postgres user=postgres password=lord\")\n",
    "\n",
    "cur = conn.cursor()"
   ]
  },
  {
   "cell_type": "code",
   "execution_count": 2,
   "metadata": {},
   "outputs": [],
   "source": [
    "conn.set_session(autocommit=True)"
   ]
  },
  {
   "cell_type": "markdown",
   "metadata": {},
   "source": [
    "## CREATE TABLE first"
   ]
  },
  {
   "cell_type": "code",
   "execution_count": 3,
   "metadata": {},
   "outputs": [],
   "source": [
    "cur.execute(\"CREATE TABLE first (ID int, Name varchar)\")"
   ]
  },
  {
   "cell_type": "code",
   "execution_count": 4,
   "metadata": {},
   "outputs": [],
   "source": [
    "cur.execute('INSERT INTO first(ID, Name) values (%s, %s)',\n",
    "           (1, \"Jose\"))\n",
    "\n",
    "cur.execute('INSERT INTO first (ID, Name) values (%s, %s)',\n",
    "           (2, \"Rolf\"))\n",
    "\n",
    "cur.execute('INSERT INTO first (ID, Name) values(%s, %s)',\n",
    "           (3, \"Anna\"))\n",
    "\n",
    "cur.execute('INSERT INTO first (ID, Name) values(%s, %s)',\n",
    "           (4, \"Robert\"))"
   ]
  },
  {
   "cell_type": "code",
   "execution_count": 5,
   "metadata": {},
   "outputs": [
    {
     "name": "stdout",
     "output_type": "stream",
     "text": [
      "(1, 'Jose')\n",
      "(2, 'Rolf')\n",
      "(3, 'Anna')\n",
      "(4, 'Robert')\n"
     ]
    }
   ],
   "source": [
    "cur.execute(\"SELECT * FROM first\")\n",
    "\n",
    "row = cur.fetchone()\n",
    "\n",
    "\n",
    "while row:\n",
    "    print(row)\n",
    "    row = cur.fetchone()"
   ]
  },
  {
   "cell_type": "markdown",
   "metadata": {},
   "source": [
    "## CREATE TABLE second"
   ]
  },
  {
   "cell_type": "code",
   "execution_count": 6,
   "metadata": {},
   "outputs": [],
   "source": [
    "cur.execute('CREATE TABLE second (ID int, customer_ID int, products varchar)')"
   ]
  },
  {
   "cell_type": "code",
   "execution_count": 7,
   "metadata": {},
   "outputs": [],
   "source": [
    "cur.execute('INSERT INTO second (ID, customer_ID, products) values (%s, %s, %s)',\n",
    "           (1, 1, \"Chair\"))\n",
    "\n",
    "cur.execute('INSERT INTO second (ID, customer_ID, products) values (%s, %s, %s)',\n",
    "           (2, 1, \"Pen\"))\n",
    "\n",
    "cur.execute('INSERT INTO second (ID, customer_ID, products) values (%s, %s, %s)',\n",
    "           (3, 1, \"Monitor\"))\n",
    "\n",
    "cur.execute('INSERT INTO second (ID, customer_ID, products) values (%s, %s, %s)',\n",
    "           (4, 3, \"Headphones\"))"
   ]
  },
  {
   "cell_type": "code",
   "execution_count": 8,
   "metadata": {},
   "outputs": [
    {
     "name": "stdout",
     "output_type": "stream",
     "text": [
      "(1, 1, 'Chair')\n",
      "(2, 1, 'Pen')\n",
      "(3, 1, 'Monitor')\n",
      "(4, 3, 'Headphones')\n"
     ]
    }
   ],
   "source": [
    "cur.execute(\"SELECT * FROM second\")\n",
    "\n",
    "row = cur.fetchone()\n",
    "\n",
    "\n",
    "while row:\n",
    "    print(row)\n",
    "    row = cur.fetchone()"
   ]
  },
  {
   "cell_type": "markdown",
   "metadata": {},
   "source": [
    "## CREATE TABLE third"
   ]
  },
  {
   "cell_type": "code",
   "execution_count": 9,
   "metadata": {},
   "outputs": [],
   "source": [
    "cur.execute('CREATE TABLE third (id int, name varchar, year int)')"
   ]
  },
  {
   "cell_type": "code",
   "execution_count": 10,
   "metadata": {},
   "outputs": [],
   "source": [
    "cur.execute(\"INSERT INTO third (id, name, year) VALUES (%s, %s, %s)\", \\\n",
    "             (1, \"Amanda\", 2000))\n",
    "\n",
    "cur.execute(\"INSERT INTO third (id, name, year) VALUES (%s, %s, %s)\", \\\n",
    "             (2, \"Toby\", 2000))\n",
    "\n",
    "cur.execute(\"INSERT INTO third (id, name, year) VALUES (%s, %s, %s)\", \\\n",
    "             (3, \"Max\", 2018))\n"
   ]
  },
  {
   "cell_type": "code",
   "execution_count": 11,
   "metadata": {},
   "outputs": [
    {
     "name": "stdout",
     "output_type": "stream",
     "text": [
      "(1, 'Amanda', 2000)\n",
      "(2, 'Toby', 2000)\n",
      "(3, 'Max', 2018)\n"
     ]
    }
   ],
   "source": [
    "cur.execute(\"SELECT * FROM third\")\n",
    "\n",
    "row = cur.fetchone()\n",
    "\n",
    "\n",
    "while row:\n",
    "    print(row)\n",
    "    row = cur.fetchone()"
   ]
  },
  {
   "cell_type": "markdown",
   "metadata": {},
   "source": [
    "## Implement Join"
   ]
  },
  {
   "cell_type": "code",
   "execution_count": 13,
   "metadata": {},
   "outputs": [
    {
     "name": "stdout",
     "output_type": "stream",
     "text": [
      "(1, 'Jose', 1, 1, 'Chair', 1, 'Amanda', 2000)\n",
      "(2, 'Rolf', 2, 1, 'Pen', 2, 'Toby', 2000)\n",
      "(3, 'Anna', 3, 1, 'Monitor', 3, 'Max', 2018)\n"
     ]
    }
   ],
   "source": [
    "cur.execute(\"SELECT * FROM (first JOIN second ON first.ID = second.ID) JOIN third ON first.ID = third.id\")\n",
    "\n",
    "row = cur.fetchone()\n",
    "\n",
    "\n",
    "while row:\n",
    "    print(row)\n",
    "    row = cur.fetchone()"
   ]
  },
  {
   "cell_type": "code",
   "execution_count": null,
   "metadata": {},
   "outputs": [],
   "source": []
  },
  {
   "cell_type": "code",
   "execution_count": null,
   "metadata": {},
   "outputs": [],
   "source": []
  },
  {
   "cell_type": "code",
   "execution_count": null,
   "metadata": {},
   "outputs": [],
   "source": []
  }
 ],
 "metadata": {
  "kernelspec": {
   "display_name": "Python 3",
   "language": "python",
   "name": "python3"
  },
  "language_info": {
   "codemirror_mode": {
    "name": "ipython",
    "version": 3
   },
   "file_extension": ".py",
   "mimetype": "text/x-python",
   "name": "python",
   "nbconvert_exporter": "python",
   "pygments_lexer": "ipython3",
   "version": "3.6.5"
  }
 },
 "nbformat": 4,
 "nbformat_minor": 2
}

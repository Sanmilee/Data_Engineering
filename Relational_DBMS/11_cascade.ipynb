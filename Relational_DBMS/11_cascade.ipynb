{
 "cells": [
  {
   "cell_type": "markdown",
   "metadata": {},
   "source": [
    "## Cascading & Restrict in Postgres"
   ]
  },
  {
   "cell_type": "markdown",
   "metadata": {},
   "source": [
    "#### Example of when cascade is needed - say you want to delete table PRODUCTS\n",
    "\n",
    "DROP TABLE products;\n",
    "\n",
    "ERROR:  cannot drop table products because other objects depend on it\n",
    "DETAIL:  constraint orders_product_no_fkey on table ORDERS depends on table PRODUCTS\n",
    "HINT:  Use DROP ... CASCADE to drop the dependent objects too."
   ]
  },
  {
   "cell_type": "markdown",
   "metadata": {},
   "source": [
    "#### CASCADE will remove a dependent view entirely, but in the foreign-key case it will only remove the foreign-key constraint, not the other table entirely."
   ]
  },
  {
   "cell_type": "markdown",
   "metadata": {},
   "source": [
    "#### Solution:\n",
    "\n",
    "DROP TABLE products CASCADE;"
   ]
  },
  {
   "cell_type": "markdown",
   "metadata": {},
   "source": [
    "#### The error message above contains a useful hint:\n",
    "\n",
    "if you do not want to bother deleting all the dependent objects individually, you can run:\n",
    "\n",
    "DROP TABLE products CASCADE;\n",
    "\n",
    "and all the dependent objects will be removed, as will any objects that depend on them, recursively.\n",
    "In this case, it doesn't remove the orders table, it only removes the foreign \n",
    "key constraint. It stops there because nothing depends on the foreign key constraint."
   ]
  },
  {
   "cell_type": "markdown",
   "metadata": {},
   "source": [
    "## RESTRICT in Postgres"
   ]
  },
  {
   "cell_type": "markdown",
   "metadata": {},
   "source": [
    "You can also write RESTRICT instead of CASCADE to get the default behavior, \n",
    "which is to prevent dropping objects that any other objects depend on."
   ]
  },
  {
   "cell_type": "markdown",
   "metadata": {},
   "source": [
    "### Multiple line DROPPING"
   ]
  },
  {
   "cell_type": "markdown",
   "metadata": {},
   "source": [
    "#### DROP TABLE tab1, tab2 \n",
    "\n",
    "If a DROP command lists multiple objects, CASCADE is only required when there \n",
    "are dependencies outside the specified group. For example, when saying \n",
    "\n",
    "the existence of a foreign key referencing tab1 from tab2 would not mean \n",
    "that CASCADE is needed to succeed."
   ]
  },
  {
   "cell_type": "code",
   "execution_count": null,
   "metadata": {},
   "outputs": [],
   "source": []
  },
  {
   "cell_type": "code",
   "execution_count": null,
   "metadata": {},
   "outputs": [],
   "source": []
  }
 ],
 "metadata": {
  "kernelspec": {
   "display_name": "Python 3",
   "language": "python",
   "name": "python3"
  },
  "language_info": {
   "codemirror_mode": {
    "name": "ipython",
    "version": 3
   },
   "file_extension": ".py",
   "mimetype": "text/x-python",
   "name": "python",
   "nbconvert_exporter": "python",
   "pygments_lexer": "ipython3",
   "version": "3.6.7"
  }
 },
 "nbformat": 4,
 "nbformat_minor": 2
}

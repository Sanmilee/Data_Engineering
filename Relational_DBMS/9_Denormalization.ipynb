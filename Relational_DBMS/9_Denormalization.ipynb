{
 "cells": [
  {
   "cell_type": "markdown",
   "metadata": {},
   "source": [
    "# Denomarlization\n",
    "\n",
    "## With Denormalization, we want to think about the queries we are running and how we can reduce our numbber of JOINS even if that means duplicating data\n",
    "\n",
    "### Though JOINS are flexible, they are slow and if we have a read heavy workload that requires low potency queries "
   ]
  },
  {
   "cell_type": "code",
   "execution_count": 1,
   "metadata": {},
   "outputs": [],
   "source": [
    "import psycopg2"
   ]
  },
  {
   "cell_type": "code",
   "execution_count": 2,
   "metadata": {},
   "outputs": [],
   "source": [
    "conn = psycopg2.connect(\"dbname=udacity user=postgres password=pwrd\")\n",
    "\n",
    "cur = conn.cursor()\n",
    "\n",
    "conn.set_session(autocommit=True)"
   ]
  },
  {
   "cell_type": "code",
   "execution_count": 6,
   "metadata": {},
   "outputs": [],
   "source": [
    "#cur.execute(\"drop table album_library\")\n",
    "#cur.execute(\"drop table song_library\")\n",
    "#cur.execute(\"drop table artist_library\")\n",
    "#cur.execute(\"drop table song_length\")"
   ]
  },
  {
   "cell_type": "markdown",
   "metadata": {},
   "source": [
    "### create tables\n",
    "\n",
    "![alt text](pic14.png \"Image 1 Display\")\n"
   ]
  },
  {
   "cell_type": "code",
   "execution_count": 7,
   "metadata": {},
   "outputs": [],
   "source": [
    "# Table: album_library\n",
    "cur.execute(\"create table if not exists album_library(album_id int, album_name varchar, artist_id int, year int)\")\n",
    "\n",
    "\n",
    "cur.execute(\"insert into album_library(album_id, album_name, artist_id, year) values (%s, %s, %s, %s)\",\n",
    "            (1, \"Rubber Soul\", 1, 1965))\n",
    "            \n",
    "cur.execute(\"insert into album_library(album_id, album_name, artist_id, year) values (%s, %s, %s, %s)\",\n",
    "            (2, \"Let It Be\", 1, 1970))\n",
    " \n",
    "\n",
    "            \n",
    "\n",
    "            \n",
    "# Table: song_library\n",
    "cur.execute(\"create table if not exists song_library(song_id int, album_id int, song_name varchar)\")\n",
    "\n",
    "cur.execute(\"insert into song_library(song_id, album_id, song_name) values (%s, %s, %s)\",\n",
    "            (1, 1, \"Michelle\"))\n",
    " \n",
    "cur.execute(\"insert into song_library(song_id, album_id, song_name) values (%s, %s, %s)\",\n",
    "            (2, 1, \"Think For Yourself\"))\n",
    " \n",
    "cur.execute(\"insert into song_library(song_id, album_id, song_name) values (%s, %s, %s)\",\n",
    "            (3, 1, \"In My Life\"))\n",
    "            \n",
    "cur.execute(\"insert into song_library(song_id, album_id, song_name) values (%s, %s, %s)\",\n",
    "            (4, 2, \"Let It Be\"))\n",
    " \n",
    "cur.execute(\"insert into song_library(song_id, album_id, song_name) values (%s, %s, %s)\",\n",
    "            (5, 2, \"Across The Universe\"))\n",
    " \n",
    "            \n",
    "      \n",
    "            \n",
    "            \n",
    "            \n",
    "# Table: artist_library\n",
    "cur.execute(\"create table if not exists artist_library(artist_id int, artist_name varchar)\")\n",
    "\n",
    "\n",
    "cur.execute(\"insert into artist_library(artist_id, artist_name) values (%s, %s)\",\n",
    "            (1, \"The Beatles\"))\n",
    " \n",
    "\n",
    "\n",
    "\n",
    "\n",
    "\n",
    "# Table: song_length\n",
    "cur.execute(\"create table if not exists song_length (song_id int, song_length int)\")\n",
    "\n",
    "\n",
    "cur.execute(\"insert into song_length (song_id, song_length) values (%s, %s)\",\n",
    "            (1, 163))\n",
    "            \n",
    "            \n",
    "cur.execute(\"insert into song_length (song_id, song_length) values (%s, %s)\",\n",
    "            (2, 137))\n",
    "            \n",
    "    \n",
    "cur.execute(\"insert into song_length (song_id, song_length) values (%s, %s)\",\n",
    "            (3, 145))\n",
    "    \n",
    "\n",
    "cur.execute(\"insert into song_length (song_id, song_length) values (%s, %s)\",\n",
    "            (4, 240))\n",
    "        \n",
    "\n",
    "cur.execute(\"insert into song_length (song_id, song_length) values (%s, %s)\",\n",
    "            (5, 227))\n",
    "            \n"
   ]
  },
  {
   "cell_type": "code",
   "execution_count": 8,
   "metadata": {},
   "outputs": [
    {
     "name": "stdout",
     "output_type": "stream",
     "text": [
      "Table: album_library \n",
      "\n",
      "(1, 'Rubber Soul', 1, 1965)\n",
      "(2, 'Let It Be', 1, 1970)\n",
      "\n",
      " \n",
      " Table: song_library \n",
      "\n",
      "(1, 1, 'Michelle')\n",
      "(2, 1, 'Think For Yourself')\n",
      "(3, 1, 'In My Life')\n",
      "(4, 2, 'Let It Be')\n",
      "(5, 2, 'Across The Universe')\n",
      "\n",
      " \n",
      " Table: artist_library \n",
      "\n",
      "(1, 'The Beatles')\n",
      "\n",
      " \n",
      " Table: song_length \n",
      "\n",
      "(1, 163)\n",
      "(2, 137)\n",
      "(3, 145)\n",
      "(4, 240)\n",
      "(5, 227)\n"
     ]
    }
   ],
   "source": [
    "print(\"Table: album_library \\n\")\n",
    "\n",
    "cur.execute(\"select * from album_library\")\n",
    "\n",
    "row = cur.fetchone()\n",
    "while row:\n",
    "    print(row)\n",
    "    row = cur.fetchone()\n",
    "\n",
    "\n",
    "\n",
    "\n",
    "\n",
    "    \n",
    "\n",
    "print(\"\\n \\n Table: song_library \\n\")\n",
    "\n",
    "cur.execute(\"select * from song_library\")\n",
    "\n",
    "row = cur.fetchone()\n",
    "while row:\n",
    "    print(row)\n",
    "    row = cur.fetchone()\n",
    "\n",
    "\n",
    "\n",
    "\n",
    "\n",
    "\n",
    "\n",
    "print(\"\\n \\n Table: artist_library \\n\")\n",
    "\n",
    "cur.execute(\"select * from artist_library\")\n",
    "\n",
    "row = cur.fetchone()\n",
    "while row:\n",
    "    print(row)\n",
    "    row = cur.fetchone()\n",
    "\n",
    "\n",
    "\n",
    "\n",
    "\n",
    "\n",
    "\n",
    "print(\"\\n \\n Table: song_length \\n\")\n",
    "\n",
    "cur.execute(\"select * from song_length\")\n",
    "\n",
    "row = cur.fetchone()\n",
    "while row:\n",
    "    print(row)\n",
    "    row = cur.fetchone()\n"
   ]
  },
  {
   "cell_type": "markdown",
   "metadata": {},
   "source": [
    "### Let imagine to have Query with this columns\n",
    "\n",
    "![alt text](pic15.png \"Image 1 Display\")\n"
   ]
  },
  {
   "cell_type": "code",
   "execution_count": 9,
   "metadata": {},
   "outputs": [
    {
     "name": "stdout",
     "output_type": "stream",
     "text": [
      "(1, 'The Beatles', 1, 'Rubber Soul', 1965, 1, 'Michelle', 163)\n",
      "(1, 'The Beatles', 1, 'Rubber Soul', 1965, 2, 'Think For Yourself', 137)\n",
      "(1, 'The Beatles', 1, 'Rubber Soul', 1965, 3, 'In My Life', 145)\n",
      "(1, 'The Beatles', 2, 'Let It Be', 1970, 4, 'Let It Be', 240)\n",
      "(1, 'The Beatles', 2, 'Let It Be', 1970, 5, 'Across The Universe', 227)\n"
     ]
    }
   ],
   "source": [
    "cur.execute(\"select artist_library.artist_id, artist_name, album_library.album_id, \\\n",
    "            album_name, year, song_library.song_id, song_name, song_length.song_length \\\n",
    "            from ((artist_library join album_library on artist_library.artist_id = album_library.artist_id) \\\n",
    "                  join song_library on album_library.album_id = song_library.album_id) \\\n",
    "            join song_length on song_library.song_id = song_length.song_id\")\n",
    "\n",
    "\n",
    "row = cur.fetchone()\n",
    "while row:\n",
    "    print(row)\n",
    "    row = cur.fetchone()\n"
   ]
  },
  {
   "cell_type": "code",
   "execution_count": null,
   "metadata": {},
   "outputs": [],
   "source": []
  },
  {
   "cell_type": "code",
   "execution_count": null,
   "metadata": {},
   "outputs": [],
   "source": []
  },
  {
   "cell_type": "markdown",
   "metadata": {},
   "source": [
    "### Denormalization\n",
    "\n",
    "![alt text](re1.png \"Image 1 Display\")\n"
   ]
  },
  {
   "cell_type": "code",
   "execution_count": null,
   "metadata": {},
   "outputs": [],
   "source": []
  },
  {
   "cell_type": "markdown",
   "metadata": {},
   "source": [
    "### Query 1\n",
    "\n",
    "![alt text](re2.png \"Image 1 Display\")\n"
   ]
  },
  {
   "cell_type": "code",
   "execution_count": null,
   "metadata": {},
   "outputs": [],
   "source": []
  },
  {
   "cell_type": "markdown",
   "metadata": {},
   "source": [
    "## create the new two tables by joining the needed data"
   ]
  },
  {
   "cell_type": "code",
   "execution_count": 17,
   "metadata": {},
   "outputs": [],
   "source": [
    "cur.execute(\"create table if not exists album_library1 (album_id int, album_name varchar, artist_name varchar, year int)\")\n",
    "\n",
    "\n",
    "\n",
    "cur.execute(\"insert into album_library1 (album_id, album_name, artist_name, year) values (%s, %s, %s, %s)\",\n",
    "            (1, \"Rubber Soul\", \"The Beatles\", 1965))\n",
    "\n",
    "cur.execute(\"insert into album_library1 (album_id, album_name, artist_name, year) values (%s, %s, %s, %s)\",\n",
    "            (2, \"Let It Be\", \"The Beatles\", 1970))\n",
    "\n",
    "\n",
    "\n",
    "\n",
    "\n",
    "\n",
    "\n",
    "\n",
    "cur.execute(\"create table if not exists song_library1 (song_id int, album_id int, song_name varchar, song_length int)\")            \n",
    "\n",
    "\n",
    "\n",
    "cur.execute(\"insert into song_library1 (song_id, album_id, song_name, song_length) values (%s, %s, %s, %s)\",\n",
    "            (1, 1, \"Michelle\", 163))\n",
    "\n",
    "cur.execute(\"insert into song_library1 (song_id, album_id, song_name, song_length) values (%s, %s, %s, %s)\",\n",
    "            (2, 1, \"Think For Yourself\", 137))\n",
    "\n",
    "cur.execute(\"insert into song_library1 (song_id, album_id, song_name, song_length) values (%s, %s, %s, %s)\",\n",
    "            (3, 1, \"In My Life\", 145))\n",
    "\n",
    "cur.execute(\"insert into song_library1 (song_id, album_id, song_name, song_length) values (%s, %s, %s, %s)\",\n",
    "            (4, 2, \"Let It Be\", 240))\n",
    "\n",
    "cur.execute(\"insert into song_library1 (song_id, album_id, song_name, song_length) values (%s, %s, %s, %s)\",\n",
    "            (5, 2, \"Across The Universe\", 227))\n"
   ]
  },
  {
   "cell_type": "markdown",
   "metadata": {},
   "source": [
    "### Now we can do a simplified query to get the information we need. Only one Join is needed"
   ]
  },
  {
   "cell_type": "code",
   "execution_count": 18,
   "metadata": {},
   "outputs": [
    {
     "name": "stdout",
     "output_type": "stream",
     "text": [
      "('The Beatles', 'Rubber Soul', 1965, 'Michelle', 163)\n",
      "('The Beatles', 'Rubber Soul', 1965, 'Think For Yourself', 137)\n",
      "('The Beatles', 'Rubber Soul', 1965, 'In My Life', 145)\n",
      "('The Beatles', 'Let It Be', 1970, 'Let It Be', 240)\n",
      "('The Beatles', 'Let It Be', 1970, 'Across The Universe', 227)\n"
     ]
    }
   ],
   "source": [
    "cur.execute(\"select artist_name, album_name, year, song_name, song_length from song_library1 join album_library1 on song_library1.album_id = album_library1.album_id\")\n",
    "\n",
    "\n",
    "\n",
    "row = cur.fetchone()\n",
    "while row:\n",
    "    print(row)\n",
    "    row = cur.fetchone()\n",
    "\n"
   ]
  },
  {
   "cell_type": "code",
   "execution_count": null,
   "metadata": {},
   "outputs": [],
   "source": []
  },
  {
   "cell_type": "code",
   "execution_count": null,
   "metadata": {},
   "outputs": [],
   "source": []
  },
  {
   "cell_type": "markdown",
   "metadata": {},
   "source": [
    "### Querry 2\n",
    "\n",
    "![alt text](re4.png \"Image 1 Display\")\n"
   ]
  },
  {
   "cell_type": "code",
   "execution_count": null,
   "metadata": {},
   "outputs": [],
   "source": []
  },
  {
   "cell_type": "markdown",
   "metadata": {},
   "source": [
    "## Create the new table"
   ]
  },
  {
   "cell_type": "code",
   "execution_count": 19,
   "metadata": {},
   "outputs": [],
   "source": [
    "\n",
    "\n",
    "cur.execute(\"create table if not exists album_length1 (song_id int, album_name varchar, song_length int)\")            \n",
    "\n",
    "\n",
    "\n",
    "cur.execute(\"insert into album_length1 (song_id, album_name, song_length) values (%s, %s, %s)\",\n",
    "            (1, \"Rubber Soul\", 163))\n",
    "\n",
    "cur.execute(\"insert into album_length1 (song_id, album_name, song_length) values (%s, %s, %s)\",\n",
    "            (2, \"Rubber Soul\", 137))\n",
    "\n",
    "cur.execute(\"insert into album_length1 (song_id, album_name, song_length) values (%s, %s, %s)\",\n",
    "            (3, \"Rubber Soul\", 145))\n",
    "\n",
    "cur.execute(\"insert into album_length1 (song_id, album_name, song_length) values (%s, %s, %s)\",\n",
    "            (4, \"Let It Be\", 240))\n",
    "\n",
    "cur.execute(\"insert into album_length1 (song_id, album_name, song_length) values (%s, %s, %s)\",\n",
    "            (5, \"Let It Be\", 227))\n",
    "\n"
   ]
  },
  {
   "cell_type": "code",
   "execution_count": 20,
   "metadata": {},
   "outputs": [
    {
     "name": "stdout",
     "output_type": "stream",
     "text": [
      "('Rubber Soul', 445)\n",
      "('Let It Be', 467)\n"
     ]
    }
   ],
   "source": [
    "cur.execute(\"select album_name, SUM(song_length) from album_length1 GROUP BY album_name\")\n",
    "\n",
    "\n",
    "\n",
    "row = cur.fetchone()\n",
    "while row:\n",
    "    print(row)\n",
    "    row = cur.fetchone()\n",
    "\n"
   ]
  },
  {
   "cell_type": "markdown",
   "metadata": {},
   "source": [
    "### We have successufully taken normalized table and denormalized them inorder to speed up our performance and allow for simplier queries to be executed"
   ]
  },
  {
   "cell_type": "code",
   "execution_count": 21,
   "metadata": {},
   "outputs": [],
   "source": [
    "#cur.execute(\"drop table album_library1\")\n",
    "#cur.execute(\"drop table song_library1\")\n",
    "#cur.execute(\"drop table album_length1\")"
   ]
  },
  {
   "cell_type": "code",
   "execution_count": null,
   "metadata": {},
   "outputs": [],
   "source": []
  }
 ],
 "metadata": {
  "kernelspec": {
   "display_name": "Python 3",
   "language": "python",
   "name": "python3"
  },
  "language_info": {
   "codemirror_mode": {
    "name": "ipython",
    "version": 3
   },
   "file_extension": ".py",
   "mimetype": "text/x-python",
   "name": "python",
   "nbconvert_exporter": "python",
   "pygments_lexer": "ipython3",
   "version": "3.6.5"
  }
 },
 "nbformat": 4,
 "nbformat_minor": 2
}

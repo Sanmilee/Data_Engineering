{
 "cells": [
  {
   "cell_type": "code",
   "execution_count": 1,
   "metadata": {},
   "outputs": [
    {
     "name": "stderr",
     "output_type": "stream",
     "text": [
      "c:\\users\\lord sanmilee\\appdata\\local\\programs\\python\\python36\\lib\\site-packages\\numpy\\_distributor_init.py:32: UserWarning: loaded more than 1 DLL from .libs:\n",
      "c:\\users\\lord sanmilee\\appdata\\local\\programs\\python\\python36\\lib\\site-packages\\numpy\\.libs\\libopenblas.IPBC74C7KURV7CB2PKT5Z5FNR3SIBV4J.gfortran-win_amd64.dll\n",
      "c:\\users\\lord sanmilee\\appdata\\local\\programs\\python\\python36\\lib\\site-packages\\numpy\\.libs\\libopenblas.PYQHXLVVQ7VESDPUVUADXEVJOBGHJPAY.gfortran-win_amd64.dll\n",
      "  stacklevel=1)\n"
     ]
    }
   ],
   "source": [
    "import cassandra\n",
    "from cassandra.cluster import Cluster"
   ]
  },
  {
   "cell_type": "code",
   "execution_count": 2,
   "metadata": {},
   "outputs": [],
   "source": [
    "# create connection\n",
    "\n",
    "try:\n",
    "    cluster = Cluster(['127.0.0.1'])\n",
    "    session = cluster.connect()\n",
    "\n",
    "except Exception as e:\n",
    "    print(e)\n",
    "    "
   ]
  },
  {
   "cell_type": "code",
   "execution_count": 3,
   "metadata": {},
   "outputs": [],
   "source": [
    "# create a keyspace\n",
    "\n",
    "try:\n",
    "    session.execute(\"create keyspace if not exists udacity \\\n",
    "                with replication = \\\n",
    "                {'class': 'SimpleStrategy', 'replication_factor':1}\" )\n",
    "                \n",
    "\n",
    "except Exception as e:\n",
    "    print(e)\n",
    "    "
   ]
  },
  {
   "cell_type": "code",
   "execution_count": 4,
   "metadata": {},
   "outputs": [],
   "source": [
    "# connect to keyspace\n",
    "\n",
    "try:\n",
    "    session.set_keyspace(\"udacity\")\n",
    "\n",
    "except Exception as e:\n",
    "    print(e)"
   ]
  },
  {
   "cell_type": "markdown",
   "metadata": {},
   "source": [
    "### think of query before you design in cassandra\n",
    "\n",
    "![alt text](pics1.png \"Image 1 Display\")\n",
    "![alt text](pics2.png \"Image 1 Display\")\n"
   ]
  },
  {
   "cell_type": "markdown",
   "metadata": {},
   "source": [
    "## Create table"
   ]
  },
  {
   "cell_type": "code",
   "execution_count": 5,
   "metadata": {},
   "outputs": [],
   "source": [
    "# music_library table\n",
    "query = \"CREATE TABLE IF NOT EXISTS music_library\"\n",
    "\n",
    "query = query + \"(year int, artist_name text, album_name text, PRIMARY KEY(year, artist_name))\"\n",
    "\n",
    "try:\n",
    "    session.execute(query)            \n",
    "except Exception as e:\n",
    "    print(e)\n",
    "\n",
    "    \n",
    "    \n",
    "    \n",
    "# album_library table\n",
    "query = \"CREATE TABLE IF NOT EXISTS album_library\"\n",
    "\n",
    "query = query + \"(year int, artist_name text, album_name text, PRIMARY KEY(artist_name, year))\"\n",
    "\n",
    "try:\n",
    "    session.execute(query)            \n",
    "except Exception as e:\n",
    "    print(e)\n",
    "\n",
    "        "
   ]
  },
  {
   "cell_type": "code",
   "execution_count": 6,
   "metadata": {},
   "outputs": [
    {
     "name": "stdout",
     "output_type": "stream",
     "text": [
      "None\n"
     ]
    }
   ],
   "source": [
    "# check if table was created\n",
    "\n",
    "try:\n",
    "    count = session.execute(query)\n",
    "    \n",
    "except Exception as e:\n",
    "    print(e)\n",
    "    \n",
    "print(count.one())\n"
   ]
  },
  {
   "cell_type": "markdown",
   "metadata": {},
   "source": [
    "### insert rows\n",
    "\n",
    "![alt text](pic7.png \"Image 1 Display\")\n"
   ]
  },
  {
   "cell_type": "code",
   "execution_count": 7,
   "metadata": {},
   "outputs": [],
   "source": [
    "# insert rows into table 1\n",
    "query =\"INSERT INTO music_library (year, artist_name, album_name)\"\n",
    "query = query + \"values(%s, %s, %s)\"\n",
    "\n",
    "\n",
    "try:\n",
    "    session.execute(query, (1970, \"The Beatles\", \"Let It Be\"))\n",
    "except Exception as e:\n",
    "    print(e)\n",
    "\n",
    "\n",
    "try:\n",
    "    session.execute(query, (1965, \"The Beatles\", \"Rubber Soul\"))\n",
    "except Exception as e:\n",
    "    print(e)\n",
    "\n",
    "    \n",
    "try:\n",
    "    session.execute(query, (1965, \"The Who\", \"My generation\"))\n",
    "except Exception as e:\n",
    "    print(e)\n",
    "\n",
    "    \n",
    "try:\n",
    "    session.execute(query, (1965, \"The Monkees\", \"Rubber Monkees\"))\n",
    "except Exception as e:\n",
    "    print(e)\n",
    "\n",
    "    \n",
    "\n",
    "try:\n",
    "    session.execute(query, (1965, \"The Carpenters\", \"Close to You\"))\n",
    "except Exception as e:\n",
    "    print(e)\n",
    "\n",
    "    \n",
    "    \n",
    "    \n",
    "    \n",
    "    \n",
    "\n",
    "# insert rows into table 2\n",
    "query1 =\"INSERT INTO album_library (artist_name, year, album_name)\"\n",
    "query1 = query1 + \"values(%s, %s, %s)\"\n",
    "\n",
    "\n",
    "try:\n",
    "    session.execute(query1, (\"The Beetles\", 1970, \"Let It Be\"))\n",
    "except Exception as e:\n",
    "    print(e)\n",
    "\n",
    "    \n",
    "try:\n",
    "    session.execute(query1, (\"The Who\", 1965, \"My Generation\"))\n",
    "except Exception as e:\n",
    "    print(e)\n",
    "\n",
    "    \n",
    "try:\n",
    "    session.execute(query1, (\"The Monkees\", 1970, \"The Monkees\"))\n",
    "except Exception as e:\n",
    "    print(e)\n",
    "\n",
    "    \n",
    "try:\n",
    "    session.execute(query1, (\"The Carpenters\", 1970, \"Close To You\"))\n",
    "except Exception as e:\n",
    "    print(e)\n",
    "\n",
    "    "
   ]
  },
  {
   "cell_type": "markdown",
   "metadata": {},
   "source": [
    "\n",
    "### validate data insertion\n",
    "\n",
    "![alt text](pics3.png \"Image 1 Display\")\n",
    "\n"
   ]
  },
  {
   "cell_type": "code",
   "execution_count": 8,
   "metadata": {},
   "outputs": [
    {
     "name": "stdout",
     "output_type": "stream",
     "text": [
      "1970 The Beatles Let It Be\n"
     ]
    }
   ],
   "source": [
    "# validate inserted data\n",
    "query = \"select * FROM music_library WHERE YEAR=1970\"\n",
    "\n",
    "try:\n",
    "    rows = session.execute(query)\n",
    "except Exception as e:\n",
    "    print(e)\n",
    "\n",
    "for row in rows:\n",
    "    print(row.year, row.artist_name, row.album_name)"
   ]
  },
  {
   "cell_type": "markdown",
   "metadata": {},
   "source": [
    "\n",
    "### validate data insertion\n",
    "\n",
    "![alt text](pics4.png \"Image 1 Display\")\n",
    "\n"
   ]
  },
  {
   "cell_type": "code",
   "execution_count": 9,
   "metadata": {},
   "outputs": [],
   "source": [
    "# lets validate data model with intended query before database design\n",
    "\n",
    "query = \"select * FROM album_library WHERE ARTIST_NAME='The Beatle'\"\n",
    "\n",
    "try:\n",
    "    rows = session.execute(query)\n",
    "except Exception as e:\n",
    "    print(e)\n",
    "    \n",
    "for row in rows:\n",
    "    print(row.artist_name, row.year, row.album_name)"
   ]
  },
  {
   "cell_type": "code",
   "execution_count": 10,
   "metadata": {},
   "outputs": [
    {
     "data": {
      "text/plain": [
       "<cassandra.cluster.ResultSet at 0x1c3472f5780>"
      ]
     },
     "execution_count": 10,
     "metadata": {},
     "output_type": "execute_result"
    }
   ],
   "source": [
    "# drop table\n",
    "query = \"DROP TABLE album_library\"\n",
    "\n",
    "session.execute(query)"
   ]
  },
  {
   "cell_type": "code",
   "execution_count": 11,
   "metadata": {},
   "outputs": [],
   "source": [
    "# finally close session\n",
    "\n",
    "session.shutdown()\n",
    "cluster.shutdown()"
   ]
  },
  {
   "cell_type": "code",
   "execution_count": null,
   "metadata": {},
   "outputs": [],
   "source": []
  }
 ],
 "metadata": {
  "kernelspec": {
   "display_name": "Python 3",
   "language": "python",
   "name": "python3"
  },
  "language_info": {
   "codemirror_mode": {
    "name": "ipython",
    "version": 3
   },
   "file_extension": ".py",
   "mimetype": "text/x-python",
   "name": "python",
   "nbconvert_exporter": "python",
   "pygments_lexer": "ipython3",
   "version": "3.6.7"
  }
 },
 "nbformat": 4,
 "nbformat_minor": 2
}

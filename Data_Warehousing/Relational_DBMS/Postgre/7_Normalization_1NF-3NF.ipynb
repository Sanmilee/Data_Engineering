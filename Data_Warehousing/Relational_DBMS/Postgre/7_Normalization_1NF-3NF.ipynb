{
 "cells": [
  {
   "cell_type": "code",
   "execution_count": 1,
   "metadata": {},
   "outputs": [],
   "source": [
    "import psycopg2"
   ]
  },
  {
   "cell_type": "code",
   "execution_count": 2,
   "metadata": {},
   "outputs": [],
   "source": [
    "conn = psycopg2.connect(\"dbname=udacity user=postgres password=pswrd\")\n",
    "\n",
    "cur = conn.cursor()\n",
    "\n",
    "conn.set_session(autocommit=True)"
   ]
  },
  {
   "cell_type": "markdown",
   "metadata": {},
   "source": [
    "### Create an unnormalized table named music lib:\n",
    "\n",
    "![alt text](pic2.png \"Image 1 Display\")\n"
   ]
  },
  {
   "cell_type": "markdown",
   "metadata": {},
   "source": [
    "## CREATE TABLE music_lib"
   ]
  },
  {
   "cell_type": "code",
   "execution_count": 7,
   "metadata": {},
   "outputs": [],
   "source": [
    "cur.execute(\"CREATE TABLE music_lib (album_ID int, album_name varchar, artist_name varchar, year int, songs text[])\")"
   ]
  },
  {
   "cell_type": "code",
   "execution_count": 8,
   "metadata": {},
   "outputs": [],
   "source": [
    "cur.execute(\"INSERT INTO music_lib (album_ID, album_name, artist_name, year, songs) values (%s, %s, %s, %s, %s)\",\n",
    "           (1, \"Rubber Soul\", \"The Beatles\", 1965, [\"Michelle\", \"Think For Yourself\", \"In My Life\"]))\n",
    "\n",
    "\n",
    "cur.execute(\"INSERT INTO music_lib (album_ID, album_name, artist_name, year, songs) values (%s, %s, %s, %s, %s)\",\n",
    "           (2, \"Let It Be\", \"The Beatles\", 1970, [\"Let It Be\", \"Across The Universe\"]))\n"
   ]
  },
  {
   "cell_type": "code",
   "execution_count": 9,
   "metadata": {},
   "outputs": [
    {
     "name": "stdout",
     "output_type": "stream",
     "text": [
      "(1, 'Rubber Soul', 'The Beatles', 1965, ['Michelle', 'Think For Yourself', 'In My Life'])\n",
      "(2, 'Let It Be', 'The Beatles', 1970, ['Let It Be', 'Across The Universe'])\n"
     ]
    }
   ],
   "source": [
    "cur.execute(\"SELECT * FROM music_lib\")\n",
    "row = cur.fetchone()\n",
    "\n",
    "while row:\n",
    "    print(row)\n",
    "    row = cur.fetchone()"
   ]
  },
  {
   "cell_type": "markdown",
   "metadata": {},
   "source": [
    "### 1NF:\n",
    "\n",
    "![alt text](pic3.png \"Image 1 Display\")\n"
   ]
  },
  {
   "cell_type": "markdown",
   "metadata": {},
   "source": [
    "## CREATE TABLE song_lib: 1NF"
   ]
  },
  {
   "cell_type": "code",
   "execution_count": 10,
   "metadata": {},
   "outputs": [],
   "source": [
    "cur.execute(\"CREATE TABLE song_lib (song_ID int, album_name varchar, artist_name varchar, year int, song_name varchar)\")"
   ]
  },
  {
   "cell_type": "code",
   "execution_count": 11,
   "metadata": {},
   "outputs": [],
   "source": [
    "cur.execute(\"INSERT INTO song_lib (song_ID, album_name, artist_name, year, song_name) values(%s, %s, %s, %s, %s)\",\n",
    "           (1, \"Rubber Soul\", \"The Beatles\", 1965, \"Michelle\"))\n",
    "\n",
    "cur.execute(\"INSERT INTO song_lib (song_ID, album_name, artist_name, year, song_name) values(%s, %s, %s, %s, %s)\",\n",
    "           (1, \"Rubber Soul\", \"The Beatles\", 1965, \"Think For Yourself\"))\n",
    "\n",
    "cur.execute(\"INSERT INTO song_lib (song_ID, album_name, artist_name, year, song_name) values(%s, %s, %s, %s, %s)\",\n",
    "           (1, \"Rubber Soul\", \"The Beatles\", 1965, \"In My Life\"))\n",
    "\n",
    "cur.execute(\"INSERT INTO song_lib (song_ID, album_name, artist_name, year, song_name) values(%s, %s, %s, %s, %s)\",\n",
    "           (2, \"Let It Be\", \"The Beatles\", 1970, \"Let It Be\"))\n",
    "\n",
    "cur.execute(\"INSERT INTO song_lib (song_ID, album_name, artist_name, year, song_name) values(%s, %s, %s, %s, %s)\",\n",
    "           (2, \"Let It Be\", \"The Beatles\", 1970, \"Across The Universe\"))\n"
   ]
  },
  {
   "cell_type": "code",
   "execution_count": 13,
   "metadata": {},
   "outputs": [
    {
     "name": "stdout",
     "output_type": "stream",
     "text": [
      "(1, 'Rubber Soul', 'The Beatles', 1965, 'Michelle')\n",
      "(1, 'Rubber Soul', 'The Beatles', 1965, 'Think For Yourself')\n",
      "(1, 'Rubber Soul', 'The Beatles', 1965, 'In My Life')\n",
      "(2, 'Let It Be', 'The Beatles', 1970, 'Let It Be')\n",
      "(2, 'Let It Be', 'The Beatles', 1970, 'Across The Universe')\n"
     ]
    }
   ],
   "source": [
    "cur.execute(\"SELECT * FROM song_lib\")\n",
    "\n",
    "row = cur.fetchone()\n",
    "\n",
    "while row:\n",
    "    print(row)\n",
    "    row = cur.fetchone()\n"
   ]
  },
  {
   "cell_type": "code",
   "execution_count": null,
   "metadata": {},
   "outputs": [],
   "source": []
  },
  {
   "cell_type": "markdown",
   "metadata": {},
   "source": [
    "### 2NF:\n",
    "\n",
    "![alt text](pic4.png \"Image 1 Display\")\n"
   ]
  },
  {
   "cell_type": "code",
   "execution_count": null,
   "metadata": {},
   "outputs": [],
   "source": []
  },
  {
   "cell_type": "markdown",
   "metadata": {},
   "source": [
    "## CREATE TABLES album_lib2 & song_lib2"
   ]
  },
  {
   "cell_type": "code",
   "execution_count": 18,
   "metadata": {},
   "outputs": [],
   "source": [
    "cur.execute(\"CREATE TABLE album_lib2 (album_ID int, album_name varchar, artist_name varchar, year int)\")\n",
    "\n",
    "cur.execute(\"CREATE TABLE song_lib2 (song_ID int, album_ID int, song_name varchar)\")"
   ]
  },
  {
   "cell_type": "code",
   "execution_count": 19,
   "metadata": {},
   "outputs": [],
   "source": [
    "cur.execute(\"INSERT INTO album_lib2 (album_ID, album_name, artist_name, year) values(%s, %s, %s, %s)\",\n",
    "           (1, \"Rubber Soul\", \"The Beatles\", 1965))\n",
    "\n",
    "cur.execute(\"INSERT INTO album_lib2 (album_ID, album_name, artist_name, year) values(%s, %s, %s, %s)\",\n",
    "           (2, \"Let It Be\", \"The Beatles\", 1970))"
   ]
  },
  {
   "cell_type": "code",
   "execution_count": 20,
   "metadata": {},
   "outputs": [],
   "source": [
    "cur.execute(\"INSERT INTO song_lib2 (song_ID, album_ID, song_name) values(%s, %s, %s)\",\n",
    "           (1, 1, \"Michelle\"))\n",
    "\n",
    "cur.execute(\"INSERT INTO song_lib2 (song_ID, album_ID, song_name) values(%s, %s, %s)\",\n",
    "           (2, 1, \"Think For Yourself\"))\n",
    "\n",
    "cur.execute(\"INSERT INTO song_lib2 (song_ID, album_ID, song_name) values(%s, %s, %s)\",\n",
    "           (3, 1, \"In My Life\"))\n",
    "\n",
    "cur.execute(\"INSERT INTO song_lib2 (song_ID, album_ID, song_name) values(%s, %s, %s)\",\n",
    "           (4, 2, \"Let It Be\"))\n",
    "\n",
    "cur.execute(\"INSERT INTO song_lib2 (song_ID, album_ID, song_name) values(%s, %s, %s)\",\n",
    "           (5, 2, \"Across The Universe\"))"
   ]
  },
  {
   "cell_type": "code",
   "execution_count": 21,
   "metadata": {},
   "outputs": [
    {
     "name": "stdout",
     "output_type": "stream",
     "text": [
      "(1, 'Rubber Soul', 'The Beatles', 1965)\n",
      "(2, 'Let It Be', 'The Beatles', 1970)\n"
     ]
    }
   ],
   "source": [
    "cur.execute(\"SELECT * FROM album_lib2\")\n",
    "\n",
    "row = cur.fetchone()\n",
    "\n",
    "while row:\n",
    "    print(row)\n",
    "    row = cur.fetchone()"
   ]
  },
  {
   "cell_type": "code",
   "execution_count": 22,
   "metadata": {},
   "outputs": [
    {
     "name": "stdout",
     "output_type": "stream",
     "text": [
      "(1, 1, 'Michelle')\n",
      "(2, 1, 'Think For Yourself')\n",
      "(3, 1, 'In My Life')\n",
      "(4, 2, 'Let It Be')\n",
      "(5, 2, 'Across The Universe')\n"
     ]
    }
   ],
   "source": [
    "cur.execute(\"SELECT * FROM song_lib2\")\n",
    "\n",
    "row = cur.fetchone()\n",
    "\n",
    "while row:\n",
    "    print(row)\n",
    "    row = cur.fetchone()"
   ]
  },
  {
   "cell_type": "markdown",
   "metadata": {},
   "source": [
    "## Join tables albim_lib2 & song_lib2"
   ]
  },
  {
   "cell_type": "code",
   "execution_count": 23,
   "metadata": {},
   "outputs": [
    {
     "name": "stdout",
     "output_type": "stream",
     "text": [
      "(1, 'Rubber Soul', 'The Beatles', 1965, 1, 1, 'Michelle')\n",
      "(1, 'Rubber Soul', 'The Beatles', 1965, 2, 1, 'Think For Yourself')\n",
      "(1, 'Rubber Soul', 'The Beatles', 1965, 3, 1, 'In My Life')\n",
      "(2, 'Let It Be', 'The Beatles', 1970, 4, 2, 'Let It Be')\n",
      "(2, 'Let It Be', 'The Beatles', 1970, 5, 2, 'Across The Universe')\n"
     ]
    }
   ],
   "source": [
    "cur.execute(\"SELECT * FROM album_lib2 JOIN song_lib2 on album_lib2.album_ID = song_lib2.album_ID\")\n",
    "\n",
    "row = cur.fetchone()\n",
    "\n",
    "while row:\n",
    "    print(row)\n",
    "    row = cur.fetchone()"
   ]
  },
  {
   "cell_type": "code",
   "execution_count": null,
   "metadata": {},
   "outputs": [],
   "source": []
  },
  {
   "cell_type": "markdown",
   "metadata": {},
   "source": [
    "### 3NF:\n",
    "\n",
    "![alt text](pic9.png \"Image 1 Display\")\n"
   ]
  },
  {
   "cell_type": "code",
   "execution_count": 21,
   "metadata": {},
   "outputs": [],
   "source": [
    "# First Table - Album library \n",
    "cur.execute(\"create table if not exists album_lib2(album_id int, album_name varchar, artist_id int, year int)\")\n",
    "\n",
    "\n",
    "cur.execute(\"insert into album_lib2 (album_id, album_name, artist_id, year) values(%s, %s, %s, %s)\",\n",
    "            (1, \"Rubber Soul\", 1, 1965))\n",
    "\n",
    "cur.execute(\"insert into album_lib2 (album_id, album_name, artist_id, year) values(%s, %s, %s, %s)\",\n",
    "            (2, \"Let It Be\", 1, 1970))\n",
    "\n",
    "\n",
    "\n",
    "# Second table -- Artist Library  \n",
    "cur.execute(\"create table if not exists artist_lib (artist_id int, artist_name varchar)\")\n",
    "\n",
    "cur.execute(\"insert into artist_lib (artist_id, artist_name) values(%s, %s)\", (1, \"The Beatles\"))\n",
    "\n"
   ]
  },
  {
   "cell_type": "code",
   "execution_count": 22,
   "metadata": {},
   "outputs": [
    {
     "name": "stdout",
     "output_type": "stream",
     "text": [
      "Table: Albulm \n",
      "\n",
      "(1, 'Rubber Soul', 1, 1965)\n",
      "(2, 'Let It Be', 1, 1970)\n",
      "\n",
      " \n",
      " table: Song Library \n",
      "\n",
      "(1, 1, 'Michelle')\n",
      "(2, 1, 'Think For Yourself')\n",
      "(3, 1, 'In My Life')\n",
      "(4, 2, 'Let It Be')\n",
      "(5, 2, 'Across The Universe')\n",
      "\n",
      " \n",
      " table: Artist Library\n",
      "(1, 'The Beatles')\n"
     ]
    }
   ],
   "source": [
    "print(\"Table: Albulm \\n\")\n",
    "      \n",
    "cur.execute(\"SELECT * FROM album_lib2\")\n",
    "            \n",
    "row = cur.fetchone()\n",
    "while row:\n",
    "    print(row)\n",
    "    row = cur.fetchone()      \n",
    "            \n",
    "\n",
    "        \n",
    "        \n",
    "        \n",
    "print(\"\\n \\n table: Song Library \\n\")\n",
    "\n",
    "cur.execute(\"SELECT * FROM song_lib\")\n",
    "            \n",
    "row = cur.fetchone()\n",
    "while row:\n",
    "    print(row)\n",
    "    row = cur.fetchone()\n",
    "            \n",
    "            \n",
    "            \n",
    "            \n",
    "            \n",
    "print(\"\\n \\n table: Artist Library\")\n",
    "            \n",
    "cur.execute(\"SELECT * FROM artist_lib\")\n",
    "            \n",
    "row = cur.fetchone()\n",
    "while row:\n",
    "    print(row)\n",
    "    row = cur.fetchone()\n"
   ]
  },
  {
   "cell_type": "markdown",
   "metadata": {},
   "source": [
    "## Do 2 Joins on 3 Tables - so that we can get all the info we had in our first table"
   ]
  },
  {
   "cell_type": "code",
   "execution_count": 24,
   "metadata": {},
   "outputs": [
    {
     "name": "stdout",
     "output_type": "stream",
     "text": [
      "(1, 'The Beatles', 1, 'Rubber Soul', 1, 1965, 1, 1, 'Michelle')\n",
      "(1, 'The Beatles', 1, 'Rubber Soul', 1, 1965, 2, 1, 'Think For Yourself')\n",
      "(1, 'The Beatles', 1, 'Rubber Soul', 1, 1965, 3, 1, 'In My Life')\n",
      "(1, 'The Beatles', 2, 'Let It Be', 1, 1970, 4, 2, 'Let It Be')\n",
      "(1, 'The Beatles', 2, 'Let It Be', 1, 1970, 5, 2, 'Across The Universe')\n"
     ]
    }
   ],
   "source": [
    "cur.execute(\"select * from (artist_lib join album_lib2 on artist_lib.artist_id = album_lib2.artist_id) join song_lib on album_lib2.album_id=song_lib.album_id\")\n",
    "\n",
    "\n",
    "\n",
    "row = cur.fetchone()\n",
    "while row:\n",
    "    print(row)\n",
    "    row = cur.fetchone()\n",
    "    "
   ]
  },
  {
   "cell_type": "markdown",
   "metadata": {},
   "source": [
    "### Done! We have Normalized our dataset"
   ]
  },
  {
   "cell_type": "code",
   "execution_count": null,
   "metadata": {},
   "outputs": [],
   "source": []
  },
  {
   "cell_type": "code",
   "execution_count": null,
   "metadata": {},
   "outputs": [],
   "source": []
  },
  {
   "cell_type": "code",
   "execution_count": null,
   "metadata": {},
   "outputs": [],
   "source": []
  },
  {
   "cell_type": "code",
   "execution_count": 24,
   "metadata": {},
   "outputs": [],
   "source": [
    "#cur.execute(\"DROP TABLE music_lib\")\n",
    "\n",
    "#cur.execute(\"DROP TABLE music_lib2\")\n",
    "\n",
    "#cur.execute(\"DROP TABLE album_lib\")\n",
    "\n",
    "#cur.execute(\"DROP TABLE song_lib\")"
   ]
  },
  {
   "cell_type": "code",
   "execution_count": null,
   "metadata": {},
   "outputs": [],
   "source": []
  }
 ],
 "metadata": {
  "kernelspec": {
   "display_name": "Python 3",
   "language": "python",
   "name": "python3"
  },
  "language_info": {
   "codemirror_mode": {
    "name": "ipython",
    "version": 3
   },
   "file_extension": ".py",
   "mimetype": "text/x-python",
   "name": "python",
   "nbconvert_exporter": "python",
   "pygments_lexer": "ipython3",
   "version": "3.6.5"
  }
 },
 "nbformat": 4,
 "nbformat_minor": 2
}

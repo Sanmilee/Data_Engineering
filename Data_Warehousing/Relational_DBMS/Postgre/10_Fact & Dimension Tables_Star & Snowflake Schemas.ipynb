{
 "cells": [
  {
   "cell_type": "markdown",
   "metadata": {},
   "source": [
    "# Fact & Dimension Tables\n",
    "\n",
    "## Star schema & Snowflake schema"
   ]
  },
  {
   "cell_type": "code",
   "execution_count": 2,
   "metadata": {},
   "outputs": [],
   "source": [
    "import psycopg2\n",
    "\n",
    "\n",
    "conn = psycopg2.connect(\"dbname=udacity user=postgres password=psrd\")\n",
    "\n",
    "cur = conn.cursor()\n",
    "\n",
    "conn.set_session(autocommit=True)"
   ]
  },
  {
   "cell_type": "markdown",
   "metadata": {},
   "source": [
    "## Lets create the fact table and insert the data into the table"
   ]
  },
  {
   "cell_type": "code",
   "execution_count": 4,
   "metadata": {},
   "outputs": [
    {
     "name": "stdout",
     "output_type": "stream",
     "text": [
      "(1, 1, Decimal('20.5'))\n",
      "(2, 1, Decimal('35.21'))\n"
     ]
    }
   ],
   "source": [
    "cur.execute(\"create table if not exists customer_transactions (customer_id int, store_id int, spent numeric )\")\n",
    "\n",
    "\n",
    "\n",
    "cur.execute(\"insert into customer_transactions (customer_id, store_id, spent) values(%s, %s, %s)\",\n",
    "            (1, 1, 20.50))\n",
    "\n",
    "cur.execute(\"insert into customer_transactions (customer_id, store_id, spent) values(%s, %s, %s)\",\n",
    "            (2, 1, 35.21))\n",
    "\n",
    "\n",
    "\n",
    "\n",
    "cur.execute(\"select * from customer_transactions\")\n",
    "\n",
    "row = cur.fetchone()\n",
    "while row:\n",
    "    print(row)\n",
    "    row = cur.fetchone()\n",
    "\n"
   ]
  },
  {
   "cell_type": "code",
   "execution_count": 5,
   "metadata": {},
   "outputs": [
    {
     "name": "stdout",
     "output_type": "stream",
     "text": [
      "(1, 1, 'Rubber Soul')\n",
      "(2, 3, 'Let It Be')\n"
     ]
    }
   ],
   "source": [
    "cur.execute(\"create table if not exists items_purchased (customer_id int, item_number int, item_name varchar )\")\n",
    "\n",
    "\n",
    "\n",
    "cur.execute(\"insert into items_purchased (customer_id, item_number, item_name) values(%s, %s, %s)\",\n",
    "            (1, 1, \"Rubber Soul\"))\n",
    "\n",
    "cur.execute(\"insert into items_purchased (customer_id, item_number, item_name) values(%s, %s, %s)\",\n",
    "            (2, 3, \"Let It Be\"))\n",
    "\n",
    "\n",
    "\n",
    "\n",
    "\n",
    "cur.execute(\"select * from items_purchased\")\n",
    "\n",
    "row = cur.fetchone()\n",
    "while row:\n",
    "    print(row)\n",
    "    row = cur.fetchone()\n"
   ]
  },
  {
   "cell_type": "code",
   "execution_count": 6,
   "metadata": {},
   "outputs": [
    {
     "name": "stdout",
     "output_type": "stream",
     "text": [
      "(1, 'CA')\n",
      "(2, 'WA')\n"
     ]
    }
   ],
   "source": [
    "cur.execute(\"create table if not exists store (store_id int, state varchar )\")\n",
    "\n",
    "\n",
    "\n",
    "cur.execute(\"insert into store (store_id, state) values(%s, %s)\",\n",
    "            (1, \"CA\"))\n",
    "\n",
    "cur.execute(\"insert into store (store_id, state) values(%s, %s)\",\n",
    "            (2, \"WA\"))\n",
    "\n",
    "\n",
    "\n",
    "\n",
    "\n",
    "cur.execute(\"select * from store\")\n",
    "\n",
    "row = cur.fetchone()\n",
    "while row:\n",
    "    print(row)\n",
    "    row = cur.fetchone()\n"
   ]
  },
  {
   "cell_type": "code",
   "execution_count": 7,
   "metadata": {},
   "outputs": [
    {
     "name": "stdout",
     "output_type": "stream",
     "text": [
      "(1, 'Amanda', True)\n",
      "(2, 'Tobby', False)\n"
     ]
    }
   ],
   "source": [
    "cur.execute(\"create table if not exists customerz (customer_id int, name varchar, rewards boolean )\")\n",
    "\n",
    "\n",
    "\n",
    "cur.execute(\"insert into customerz (customer_id, name, rewards) values(%s, %s, %s)\",\n",
    "            (1, \"Amanda\", True))\n",
    "\n",
    "cur.execute(\"insert into customerz (customer_id, name, rewards) values(%s, %s, %s)\",\n",
    "            (2, \"Tobby\", False))\n",
    "\n",
    "\n",
    "\n",
    "\n",
    "cur.execute(\"select * from customerz\")\n",
    "\n",
    "row = cur.fetchone()\n",
    "while row:\n",
    "    print(row)\n",
    "    row = cur.fetchone()\n"
   ]
  },
  {
   "cell_type": "markdown",
   "metadata": {},
   "source": [
    "\n",
    "![alt text](sch3.png \"Image 1 Display\")\n"
   ]
  },
  {
   "cell_type": "code",
   "execution_count": 8,
   "metadata": {},
   "outputs": [
    {
     "name": "stdout",
     "output_type": "stream",
     "text": [
      "('Tobby', 'Let It Be', False)\n"
     ]
    }
   ],
   "source": [
    "# Query 1:\n",
    "\n",
    "cur.execute(\"select name, item_name, rewards FROM ((customer_transactions \\\n",
    "           JOIN customerz ON customerz.customer_id=customer_transactions.customer_id) \\\n",
    "           JOIN items_purchased ON customer_transactions.customer_id=items_purchased.customer_id) \\\n",
    "           WHERE spent > 30 \")\n",
    "\n",
    "\n",
    "row = cur.fetchone()\n",
    "while row:\n",
    "    print(row)\n",
    "    row = cur.fetchone()\n"
   ]
  },
  {
   "cell_type": "code",
   "execution_count": 9,
   "metadata": {},
   "outputs": [
    {
     "name": "stdout",
     "output_type": "stream",
     "text": [
      "(1, Decimal('55.71'))\n"
     ]
    }
   ],
   "source": [
    "# Query 2:\n",
    "\n",
    "cur.execute(\" SELECT store_id, SUM(spent) FROM customer_transactions GROUP BY store_id \")\n",
    "\n",
    "\n",
    "row = cur.fetchone()\n",
    "while row:\n",
    "    print(row)\n",
    "    row = cur.fetchone()\n"
   ]
  },
  {
   "cell_type": "markdown",
   "metadata": {},
   "source": [
    "\n",
    "![alt text](sch4.png \"Image 1 Display\")\n"
   ]
  },
  {
   "cell_type": "code",
   "execution_count": 10,
   "metadata": {},
   "outputs": [],
   "source": [
    "#cur.execute(\"DROP TABLE customer_transactions\")\n",
    "#cur.execute(\"DROP TABLE items_purchased\")\n",
    "#cur.execute(\"DROP TABLE store\")\n",
    "#cur.execute(\"DROP TABLE customerz\")"
   ]
  },
  {
   "cell_type": "code",
   "execution_count": null,
   "metadata": {},
   "outputs": [],
   "source": []
  }
 ],
 "metadata": {
  "kernelspec": {
   "display_name": "Python 3",
   "language": "python",
   "name": "python3"
  },
  "language_info": {
   "codemirror_mode": {
    "name": "ipython",
    "version": 3
   },
   "file_extension": ".py",
   "mimetype": "text/x-python",
   "name": "python",
   "nbconvert_exporter": "python",
   "pygments_lexer": "ipython3",
   "version": "3.6.5"
  }
 },
 "nbformat": 4,
 "nbformat_minor": 2
}

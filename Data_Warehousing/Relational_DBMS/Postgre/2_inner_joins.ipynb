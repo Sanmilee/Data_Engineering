{
 "cells": [
  {
   "cell_type": "markdown",
   "metadata": {},
   "source": [
    "## Join data from multiple table"
   ]
  },
  {
   "cell_type": "markdown",
   "metadata": {},
   "source": [
    "### INNER JOIN or just JOIN\n",
    "\n",
    "![alt text](a1.png \"Image 1 Display\")\n"
   ]
  },
  {
   "cell_type": "code",
   "execution_count": 1,
   "metadata": {},
   "outputs": [],
   "source": [
    "import psycopg2\n",
    "\n",
    "conn = psycopg2.connect(\"host = 127.0.0.1 dbname=postgres user=Lord password=Lord\")\n",
    "\n",
    "cur = conn.cursor()"
   ]
  },
  {
   "cell_type": "code",
   "execution_count": 3,
   "metadata": {},
   "outputs": [],
   "source": [
    "conn.set_session(autocommit=True)"
   ]
  },
  {
   "cell_type": "markdown",
   "metadata": {},
   "source": [
    "### Example\n",
    "\n",
    "![alt text](a2.png \"Image 1 Display\")\n"
   ]
  },
  {
   "cell_type": "markdown",
   "metadata": {},
   "source": [
    "## create tables customer"
   ]
  },
  {
   "cell_type": "code",
   "execution_count": 9,
   "metadata": {},
   "outputs": [],
   "source": [
    "cur.execute(\"CREATE TABLE customers (ID int, Name varchar)\")"
   ]
  },
  {
   "cell_type": "code",
   "execution_count": 10,
   "metadata": {},
   "outputs": [],
   "source": [
    "cur.execute('INSERT INTO customers(ID, Name) values (%s, %s)',\n",
    "           (1, \"Jose\"))\n",
    "\n",
    "cur.execute('INSERT INTO customers (ID, Name) values (%s, %s)',\n",
    "           (2, \"Rolf\"))\n",
    "\n",
    "cur.execute('INSERT INTO customers (ID, Name) values(%s, %s)',\n",
    "           (3, \"Anna\"))\n",
    "\n",
    "cur.execute('INSERT INTO customers (ID, Name) values(%s, %s)',\n",
    "           (4, \"Robert\"))"
   ]
  },
  {
   "cell_type": "code",
   "execution_count": 11,
   "metadata": {},
   "outputs": [
    {
     "name": "stdout",
     "output_type": "stream",
     "text": [
      "(1, 'Jose')\n",
      "(2, 'Rolf')\n",
      "(3, 'Anna')\n",
      "(4, 'Robert')\n"
     ]
    }
   ],
   "source": [
    "cur.execute(\"select * from customers\")\n",
    "\n",
    "row = cur.fetchone()\n",
    "\n",
    "while row:\n",
    "    print(row)\n",
    "    row = cur.fetchone()\n"
   ]
  },
  {
   "cell_type": "code",
   "execution_count": 8,
   "metadata": {},
   "outputs": [],
   "source": [
    "#cur.execute('DROP TABLE customers')"
   ]
  },
  {
   "cell_type": "markdown",
   "metadata": {},
   "source": [
    "## Create table orders"
   ]
  },
  {
   "cell_type": "code",
   "execution_count": 12,
   "metadata": {},
   "outputs": [],
   "source": [
    "cur.execute('CREATE TABLE orders (ID int, customer_ID int, products varchar)')"
   ]
  },
  {
   "cell_type": "code",
   "execution_count": 13,
   "metadata": {},
   "outputs": [],
   "source": [
    "cur.execute('INSERT INTO orders (ID, customer_ID, products) values (%s, %s, %s)',\n",
    "           (1, 1, \"Chair\"))\n",
    "\n",
    "cur.execute('INSERT INTO orders (ID, customer_ID, products) values (%s, %s, %s)',\n",
    "           (2, 1, \"Pen\"))\n",
    "\n",
    "cur.execute('INSERT INTO orders (ID, customer_ID, products) values (%s, %s, %s)',\n",
    "           (3, 1, \"Monitor\"))\n",
    "\n",
    "cur.execute('INSERT INTO orders (ID, customer_ID, products) values (%s, %s, %s)',\n",
    "           (4, 3, \"Headphones\"))"
   ]
  },
  {
   "cell_type": "code",
   "execution_count": 15,
   "metadata": {},
   "outputs": [
    {
     "name": "stdout",
     "output_type": "stream",
     "text": [
      "(1, 1, 'Chair')\n",
      "(2, 1, 'Pen')\n",
      "(3, 1, 'Monitor')\n",
      "(4, 3, 'Headphones')\n"
     ]
    }
   ],
   "source": [
    "cur.execute(\"SELECT * from orders\")\n",
    "\n",
    "row = cur.fetchone()\n",
    "\n",
    "while row:\n",
    "    print(row)\n",
    "    row = cur.fetchone()\n"
   ]
  },
  {
   "cell_type": "markdown",
   "metadata": {},
   "source": [
    "## Implement Inner Join"
   ]
  },
  {
   "cell_type": "code",
   "execution_count": 17,
   "metadata": {},
   "outputs": [],
   "source": [
    "cur.execute(\"SELECT * FROM customers INNER JOIN orders ON customers.ID = orders.customer_ID\")"
   ]
  },
  {
   "cell_type": "code",
   "execution_count": 18,
   "metadata": {},
   "outputs": [
    {
     "name": "stdout",
     "output_type": "stream",
     "text": [
      "(1, 'Jose', 1, 1, 'Chair')\n",
      "(1, 'Jose', 2, 1, 'Pen')\n",
      "(1, 'Jose', 3, 1, 'Monitor')\n",
      "(3, 'Anna', 4, 3, 'Headphones')\n"
     ]
    }
   ],
   "source": [
    "row = cur.fetchone()\n",
    "\n",
    "while row:\n",
    "    print(row)\n",
    "    row = cur.fetchone()"
   ]
  },
  {
   "cell_type": "code",
   "execution_count": null,
   "metadata": {},
   "outputs": [],
   "source": []
  },
  {
   "cell_type": "code",
   "execution_count": null,
   "metadata": {},
   "outputs": [],
   "source": []
  },
  {
   "cell_type": "code",
   "execution_count": 20,
   "metadata": {},
   "outputs": [],
   "source": [
    "cur.execute(\"DROP TABLE customers\")\n",
    "cur.execute(\"DROP TABLE orders\")"
   ]
  },
  {
   "cell_type": "code",
   "execution_count": null,
   "metadata": {},
   "outputs": [],
   "source": []
  }
 ],
 "metadata": {
  "kernelspec": {
   "display_name": "Python 3",
   "language": "python",
   "name": "python3"
  },
  "language_info": {
   "codemirror_mode": {
    "name": "ipython",
    "version": 3
   },
   "file_extension": ".py",
   "mimetype": "text/x-python",
   "name": "python",
   "nbconvert_exporter": "python",
   "pygments_lexer": "ipython3",
   "version": "3.6.5"
  }
 },
 "nbformat": 4,
 "nbformat_minor": 2
}

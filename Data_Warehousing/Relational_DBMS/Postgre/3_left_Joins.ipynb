{
 "cells": [
  {
   "cell_type": "markdown",
   "metadata": {},
   "source": [
    "# Left Join\n"
   ]
  },
  {
   "cell_type": "markdown",
   "metadata": {},
   "source": [
    "### left Joins\n",
    "\n",
    "![alt text](a3b.png \"Image 1 Display\")\n"
   ]
  },
  {
   "cell_type": "code",
   "execution_count": 1,
   "metadata": {},
   "outputs": [],
   "source": [
    "import psycopg2\n",
    "\n",
    "\n",
    "conn = psycopg2.connect(\"host = 127.0.0.1 dbname = postgres user = postgres password =pswd\")\n",
    "\n",
    "cur = conn.cursor()"
   ]
  },
  {
   "cell_type": "code",
   "execution_count": 2,
   "metadata": {},
   "outputs": [],
   "source": [
    "conn.set_session(autocommit=True)"
   ]
  },
  {
   "cell_type": "markdown",
   "metadata": {},
   "source": [
    "### Inner Joins sample\n",
    "\n",
    "![alt text](a4.png \"Image 1 Display\")\n"
   ]
  },
  {
   "cell_type": "markdown",
   "metadata": {},
   "source": [
    "## create tables Customer"
   ]
  },
  {
   "cell_type": "code",
   "execution_count": 3,
   "metadata": {},
   "outputs": [],
   "source": [
    "cur.execute(\"CREATE TABLE Customers (ID int, Name varchar)\")"
   ]
  },
  {
   "cell_type": "code",
   "execution_count": 4,
   "metadata": {},
   "outputs": [],
   "source": [
    "cur.execute('INSERT INTO Customers(ID, Name) values (%s, %s)',\n",
    "           (1, \"Jose\"))\n",
    "\n",
    "cur.execute('INSERT INTO Customers (ID, Name) values (%s, %s)',\n",
    "           (2, \"Rolf\"))\n",
    "\n",
    "cur.execute('INSERT INTO Customers (ID, Name) values(%s, %s)',\n",
    "           (3, \"Anna\"))\n",
    "\n",
    "cur.execute('INSERT INTO Customers (ID, Name) values(%s, %s)',\n",
    "           (4, \"Robert\"))"
   ]
  },
  {
   "cell_type": "code",
   "execution_count": 6,
   "metadata": {},
   "outputs": [
    {
     "name": "stdout",
     "output_type": "stream",
     "text": [
      "(1, 'Jose')\n",
      "(2, 'Rolf')\n",
      "(3, 'Anna')\n",
      "(4, 'Robert')\n"
     ]
    }
   ],
   "source": [
    "cur.execute(\"SELECT * FROM Customers\")\n",
    "\n",
    "row = cur.fetchone()\n",
    "\n",
    "\n",
    "while row:\n",
    "    print(row)\n",
    "    row = cur.fetchone()"
   ]
  },
  {
   "cell_type": "markdown",
   "metadata": {},
   "source": [
    "## Create table Orders"
   ]
  },
  {
   "cell_type": "code",
   "execution_count": 7,
   "metadata": {},
   "outputs": [],
   "source": [
    "cur.execute('CREATE TABLE Orders (ID int, customer_ID int, products varchar)')"
   ]
  },
  {
   "cell_type": "code",
   "execution_count": 8,
   "metadata": {},
   "outputs": [],
   "source": [
    "cur.execute('INSERT INTO Orders (ID, customer_ID, products) values (%s, %s, %s)',\n",
    "           (1, 1, \"Chair\"))\n",
    "\n",
    "cur.execute('INSERT INTO Orders (ID, customer_ID, products) values (%s, %s, %s)',\n",
    "           (2, 1, \"Pen\"))\n",
    "\n",
    "cur.execute('INSERT INTO Orders (ID, customer_ID, products) values (%s, %s, %s)',\n",
    "           (3, 1, \"Monitor\"))\n",
    "\n",
    "cur.execute('INSERT INTO Orders (ID, customer_ID, products) values (%s, %s, %s)',\n",
    "           (4, 3, \"Headphones\"))"
   ]
  },
  {
   "cell_type": "code",
   "execution_count": 9,
   "metadata": {},
   "outputs": [
    {
     "name": "stdout",
     "output_type": "stream",
     "text": [
      "(1, 1, 'Chair')\n",
      "(2, 1, 'Pen')\n",
      "(3, 1, 'Monitor')\n",
      "(4, 3, 'Headphones')\n"
     ]
    }
   ],
   "source": [
    "cur.execute(\"SELECT * FROM Orders\")\n",
    "\n",
    "row = cur.fetchone()\n",
    "\n",
    "while row:\n",
    "    print(row)\n",
    "    row = cur.fetchone()"
   ]
  },
  {
   "cell_type": "markdown",
   "metadata": {},
   "source": [
    "## Implement left Join"
   ]
  },
  {
   "cell_type": "code",
   "execution_count": 10,
   "metadata": {},
   "outputs": [],
   "source": [
    "cur.execute(\"SELECT * FROM Customers LEFT JOIN Orders ON Customers.ID = Orders.customer_ID\")"
   ]
  },
  {
   "cell_type": "code",
   "execution_count": 11,
   "metadata": {},
   "outputs": [
    {
     "name": "stdout",
     "output_type": "stream",
     "text": [
      "(1, 'Jose', 1, 1, 'Chair')\n",
      "(1, 'Jose', 2, 1, 'Pen')\n",
      "(1, 'Jose', 3, 1, 'Monitor')\n",
      "(2, 'Rolf', None, None, None)\n",
      "(3, 'Anna', 4, 3, 'Headphones')\n",
      "(4, 'Robert', None, None, None)\n"
     ]
    }
   ],
   "source": [
    "row = cur.fetchone()\n",
    "\n",
    "while row:\n",
    "    print(row)\n",
    "    row = cur.fetchone()"
   ]
  },
  {
   "cell_type": "code",
   "execution_count": null,
   "metadata": {},
   "outputs": [],
   "source": []
  }
 ],
 "metadata": {
  "kernelspec": {
   "display_name": "Python 3",
   "language": "python",
   "name": "python3"
  },
  "language_info": {
   "codemirror_mode": {
    "name": "ipython",
    "version": 3
   },
   "file_extension": ".py",
   "mimetype": "text/x-python",
   "name": "python",
   "nbconvert_exporter": "python",
   "pygments_lexer": "ipython3",
   "version": "3.6.5"
  }
 },
 "nbformat": 4,
 "nbformat_minor": 2
}
